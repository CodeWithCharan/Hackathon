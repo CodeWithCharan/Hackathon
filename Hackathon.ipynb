{
 "cells": [
  {
   "cell_type": "code",
   "execution_count": 1,
   "id": "91506bbf-f6d2-4398-979c-a0ddbe2613f2",
   "metadata": {},
   "outputs": [],
   "source": [
    "import pandas as pd"
   ]
  },
  {
   "cell_type": "markdown",
   "id": "4bd5b566-a6be-4058-b574-94356b1d8ef3",
   "metadata": {},
   "source": [
    "### 1. What is the shape of \"movies.csv\"?"
   ]
  },
  {
   "cell_type": "code",
   "execution_count": 2,
   "id": "2ad9d9f8-2daa-465a-94e8-202280eea496",
   "metadata": {},
   "outputs": [
    {
     "data": {
      "text/plain": [
       "(9742, 3)"
      ]
     },
     "execution_count": 2,
     "metadata": {},
     "output_type": "execute_result"
    }
   ],
   "source": [
    "df = pd.read_csv(\"movies.csv\")\n",
    "\n",
    "df.shape"
   ]
  },
  {
   "cell_type": "code",
   "execution_count": 6,
   "id": "5b007fd1-bcc3-4786-a2f3-64e5bb579623",
   "metadata": {},
   "outputs": [
    {
     "data": {
      "text/html": [
       "<div>\n",
       "<style scoped>\n",
       "    .dataframe tbody tr th:only-of-type {\n",
       "        vertical-align: middle;\n",
       "    }\n",
       "\n",
       "    .dataframe tbody tr th {\n",
       "        vertical-align: top;\n",
       "    }\n",
       "\n",
       "    .dataframe thead th {\n",
       "        text-align: right;\n",
       "    }\n",
       "</style>\n",
       "<table border=\"1\" class=\"dataframe\">\n",
       "  <thead>\n",
       "    <tr style=\"text-align: right;\">\n",
       "      <th></th>\n",
       "      <th>movieId</th>\n",
       "      <th>title</th>\n",
       "      <th>genres</th>\n",
       "    </tr>\n",
       "  </thead>\n",
       "  <tbody>\n",
       "    <tr>\n",
       "      <th>0</th>\n",
       "      <td>1</td>\n",
       "      <td>Toy Story (1995)</td>\n",
       "      <td>Adventure|Animation|Children|Comedy|Fantasy</td>\n",
       "    </tr>\n",
       "    <tr>\n",
       "      <th>1</th>\n",
       "      <td>2</td>\n",
       "      <td>Jumanji (1995)</td>\n",
       "      <td>Adventure|Children|Fantasy</td>\n",
       "    </tr>\n",
       "    <tr>\n",
       "      <th>2</th>\n",
       "      <td>3</td>\n",
       "      <td>Grumpier Old Men (1995)</td>\n",
       "      <td>Comedy|Romance</td>\n",
       "    </tr>\n",
       "    <tr>\n",
       "      <th>3</th>\n",
       "      <td>4</td>\n",
       "      <td>Waiting to Exhale (1995)</td>\n",
       "      <td>Comedy|Drama|Romance</td>\n",
       "    </tr>\n",
       "    <tr>\n",
       "      <th>4</th>\n",
       "      <td>5</td>\n",
       "      <td>Father of the Bride Part II (1995)</td>\n",
       "      <td>Comedy</td>\n",
       "    </tr>\n",
       "  </tbody>\n",
       "</table>\n",
       "</div>"
      ],
      "text/plain": [
       "   movieId                               title  \\\n",
       "0        1                    Toy Story (1995)   \n",
       "1        2                      Jumanji (1995)   \n",
       "2        3             Grumpier Old Men (1995)   \n",
       "3        4            Waiting to Exhale (1995)   \n",
       "4        5  Father of the Bride Part II (1995)   \n",
       "\n",
       "                                        genres  \n",
       "0  Adventure|Animation|Children|Comedy|Fantasy  \n",
       "1                   Adventure|Children|Fantasy  \n",
       "2                               Comedy|Romance  \n",
       "3                         Comedy|Drama|Romance  \n",
       "4                                       Comedy  "
      ]
     },
     "execution_count": 6,
     "metadata": {},
     "output_type": "execute_result"
    }
   ],
   "source": [
    "df.head()"
   ]
  },
  {
   "cell_type": "markdown",
   "id": "12353ccb-7b04-4751-9c78-8f8ce2337520",
   "metadata": {},
   "source": [
    "### 2. What is the shape of \"ratings.csv\"?\n"
   ]
  },
  {
   "cell_type": "code",
   "execution_count": 3,
   "id": "7f4c4bb6-a906-42b7-92a4-6d828b959eac",
   "metadata": {},
   "outputs": [
    {
     "data": {
      "text/plain": [
       "(100836, 4)"
      ]
     },
     "execution_count": 3,
     "metadata": {},
     "output_type": "execute_result"
    }
   ],
   "source": [
    "df2 = pd.read_csv(\"ratings.csv\")\n",
    "\n",
    "df2.shape"
   ]
  },
  {
   "cell_type": "code",
   "execution_count": 5,
   "id": "936db50c-6201-46d1-8188-03fd65983fb1",
   "metadata": {},
   "outputs": [
    {
     "data": {
      "text/html": [
       "<div>\n",
       "<style scoped>\n",
       "    .dataframe tbody tr th:only-of-type {\n",
       "        vertical-align: middle;\n",
       "    }\n",
       "\n",
       "    .dataframe tbody tr th {\n",
       "        vertical-align: top;\n",
       "    }\n",
       "\n",
       "    .dataframe thead th {\n",
       "        text-align: right;\n",
       "    }\n",
       "</style>\n",
       "<table border=\"1\" class=\"dataframe\">\n",
       "  <thead>\n",
       "    <tr style=\"text-align: right;\">\n",
       "      <th></th>\n",
       "      <th>userId</th>\n",
       "      <th>movieId</th>\n",
       "      <th>rating</th>\n",
       "      <th>timestamp</th>\n",
       "    </tr>\n",
       "  </thead>\n",
       "  <tbody>\n",
       "    <tr>\n",
       "      <th>0</th>\n",
       "      <td>1</td>\n",
       "      <td>1</td>\n",
       "      <td>4.0</td>\n",
       "      <td>964982703</td>\n",
       "    </tr>\n",
       "    <tr>\n",
       "      <th>1</th>\n",
       "      <td>1</td>\n",
       "      <td>3</td>\n",
       "      <td>4.0</td>\n",
       "      <td>964981247</td>\n",
       "    </tr>\n",
       "    <tr>\n",
       "      <th>2</th>\n",
       "      <td>1</td>\n",
       "      <td>6</td>\n",
       "      <td>4.0</td>\n",
       "      <td>964982224</td>\n",
       "    </tr>\n",
       "    <tr>\n",
       "      <th>3</th>\n",
       "      <td>1</td>\n",
       "      <td>47</td>\n",
       "      <td>5.0</td>\n",
       "      <td>964983815</td>\n",
       "    </tr>\n",
       "    <tr>\n",
       "      <th>4</th>\n",
       "      <td>1</td>\n",
       "      <td>50</td>\n",
       "      <td>5.0</td>\n",
       "      <td>964982931</td>\n",
       "    </tr>\n",
       "  </tbody>\n",
       "</table>\n",
       "</div>"
      ],
      "text/plain": [
       "   userId  movieId  rating  timestamp\n",
       "0       1        1     4.0  964982703\n",
       "1       1        3     4.0  964981247\n",
       "2       1        6     4.0  964982224\n",
       "3       1       47     5.0  964983815\n",
       "4       1       50     5.0  964982931"
      ]
     },
     "execution_count": 5,
     "metadata": {},
     "output_type": "execute_result"
    }
   ],
   "source": [
    "df2.head()"
   ]
  },
  {
   "cell_type": "markdown",
   "id": "86e8cfdf-c3cf-4c93-a334-aab011b5dd70",
   "metadata": {},
   "source": [
    "### 3. How many unique \"userId\" are available in \"ratings.csv\"?*"
   ]
  },
  {
   "cell_type": "code",
   "execution_count": 4,
   "id": "489e78ad-2c7c-462f-96bc-0ffb19a88fad",
   "metadata": {},
   "outputs": [
    {
     "data": {
      "text/plain": [
       "610"
      ]
     },
     "execution_count": 4,
     "metadata": {},
     "output_type": "execute_result"
    }
   ],
   "source": [
    "unique_user_count = df2['userId'].nunique()\n",
    "\n",
    "unique_user_count"
   ]
  },
  {
   "cell_type": "markdown",
   "id": "ca888ee5-f7dc-424c-b25a-52d91ff8ad73",
   "metadata": {},
   "source": [
    "### 4. Which movie has recieved maximum number of user ratings?*"
   ]
  },
  {
   "cell_type": "code",
   "execution_count": 7,
   "id": "b199426b-d27b-4f1e-86f0-e258b9b809ae",
   "metadata": {},
   "outputs": [],
   "source": [
    "ratings_count = df2['movieId'].value_counts().idxmax()\n",
    "\n",
    "most_rated_movie = df[df['movieId'] == ratings_count]['title'].values[0]"
   ]
  },
  {
   "cell_type": "code",
   "execution_count": 8,
   "id": "2bea6891-8642-49a4-b523-24794582e9cd",
   "metadata": {},
   "outputs": [
    {
     "data": {
      "text/plain": [
       "'Forrest Gump (1994)'"
      ]
     },
     "execution_count": 8,
     "metadata": {},
     "output_type": "execute_result"
    }
   ],
   "source": [
    "most_rated_movie"
   ]
  },
  {
   "cell_type": "code",
   "execution_count": 9,
   "id": "0d22a778-69df-4e18-9e43-452aa3ba79ae",
   "metadata": {},
   "outputs": [
    {
     "data": {
      "text/html": [
       "<div>\n",
       "<style scoped>\n",
       "    .dataframe tbody tr th:only-of-type {\n",
       "        vertical-align: middle;\n",
       "    }\n",
       "\n",
       "    .dataframe tbody tr th {\n",
       "        vertical-align: top;\n",
       "    }\n",
       "\n",
       "    .dataframe thead th {\n",
       "        text-align: right;\n",
       "    }\n",
       "</style>\n",
       "<table border=\"1\" class=\"dataframe\">\n",
       "  <thead>\n",
       "    <tr style=\"text-align: right;\">\n",
       "      <th></th>\n",
       "      <th>userId</th>\n",
       "      <th>movieId</th>\n",
       "      <th>tag</th>\n",
       "      <th>timestamp</th>\n",
       "    </tr>\n",
       "  </thead>\n",
       "  <tbody>\n",
       "    <tr>\n",
       "      <th>0</th>\n",
       "      <td>2</td>\n",
       "      <td>60756</td>\n",
       "      <td>funny</td>\n",
       "      <td>1445714994</td>\n",
       "    </tr>\n",
       "    <tr>\n",
       "      <th>1</th>\n",
       "      <td>2</td>\n",
       "      <td>60756</td>\n",
       "      <td>Highly quotable</td>\n",
       "      <td>1445714996</td>\n",
       "    </tr>\n",
       "    <tr>\n",
       "      <th>2</th>\n",
       "      <td>2</td>\n",
       "      <td>60756</td>\n",
       "      <td>will ferrell</td>\n",
       "      <td>1445714992</td>\n",
       "    </tr>\n",
       "    <tr>\n",
       "      <th>3</th>\n",
       "      <td>2</td>\n",
       "      <td>89774</td>\n",
       "      <td>Boxing story</td>\n",
       "      <td>1445715207</td>\n",
       "    </tr>\n",
       "    <tr>\n",
       "      <th>4</th>\n",
       "      <td>2</td>\n",
       "      <td>89774</td>\n",
       "      <td>MMA</td>\n",
       "      <td>1445715200</td>\n",
       "    </tr>\n",
       "  </tbody>\n",
       "</table>\n",
       "</div>"
      ],
      "text/plain": [
       "   userId  movieId              tag   timestamp\n",
       "0       2    60756            funny  1445714994\n",
       "1       2    60756  Highly quotable  1445714996\n",
       "2       2    60756     will ferrell  1445714992\n",
       "3       2    89774     Boxing story  1445715207\n",
       "4       2    89774              MMA  1445715200"
      ]
     },
     "execution_count": 9,
     "metadata": {},
     "output_type": "execute_result"
    }
   ],
   "source": [
    "df3 = pd.read_csv(\"tags.csv\")\n",
    "\n",
    "df3.head()"
   ]
  },
  {
   "cell_type": "markdown",
   "id": "848794eb-cb8e-41c3-a45b-8ef5cbf61166",
   "metadata": {},
   "source": [
    "### 5. Tags submitted by users to \"Matrix, The (1999)\" movie"
   ]
  },
  {
   "cell_type": "code",
   "execution_count": 10,
   "id": "e0a791cb-c370-4c3a-988d-e2851152f5ef",
   "metadata": {},
   "outputs": [],
   "source": [
    "matrix_movie_id = df[df['title'] == 'Matrix, The (1999)']['movieId'].values[0]\n",
    "\n",
    "matrix_tags = df3[df3['movieId'] == matrix_movie_id]['tag'].unique()"
   ]
  },
  {
   "cell_type": "code",
   "execution_count": 11,
   "id": "db55a354-8c52-405d-b416-ec721bed4a2b",
   "metadata": {},
   "outputs": [
    {
     "data": {
      "text/plain": [
       "array(['martial arts', 'sci-fi', 'alternate universe', 'philosophy',\n",
       "       'post apocalyptic'], dtype=object)"
      ]
     },
     "execution_count": 11,
     "metadata": {},
     "output_type": "execute_result"
    }
   ],
   "source": [
    "matrix_tags"
   ]
  },
  {
   "cell_type": "markdown",
   "id": "17ac2223-2c4a-48a0-99ee-423db28f4ba6",
   "metadata": {},
   "source": [
    "### 6. What is the average user rating for movie named \"Terminator 2: Judgment Day (1991)\"?"
   ]
  },
  {
   "cell_type": "code",
   "execution_count": 12,
   "id": "20153d80-d98b-41c1-8d26-48deb95ff73e",
   "metadata": {},
   "outputs": [],
   "source": [
    "terminator_movie_id = df[df['title'] == 'Terminator 2: Judgment Day (1991)']['movieId'].values[0]\n",
    "\n",
    "average_rating = df2[df2['movieId'] == terminator_movie_id]['rating'].mean()"
   ]
  },
  {
   "cell_type": "code",
   "execution_count": 13,
   "id": "f3166795-5ad5-422f-a7b3-f5a249d495a0",
   "metadata": {},
   "outputs": [
    {
     "data": {
      "text/plain": [
       "3.970982142857143"
      ]
     },
     "execution_count": 13,
     "metadata": {},
     "output_type": "execute_result"
    }
   ],
   "source": [
    "average_rating"
   ]
  },
  {
   "cell_type": "markdown",
   "id": "96855173-3d95-4689-9cc6-0858bfe80b01",
   "metadata": {},
   "source": [
    "### 7. How does the data distribution of user ratings for \"Fight Club (1999)\" movie looks like?"
   ]
  },
  {
   "cell_type": "code",
   "execution_count": 14,
   "id": "8246f13d-64b4-4551-b393-bd44185d1000",
   "metadata": {},
   "outputs": [
    {
     "data": {
      "image/png": "[encoded data removed]",
      "text/plain": [
       "<Figure size 640x480 with 1 Axes>"
      ]
     },
     "metadata": {},
     "output_type": "display_data"
    }
   ],
   "source": [
    "import matplotlib.pyplot as plt\n",
    "\n",
    "fight_club_movie_id = df[df['title'] == 'Fight Club (1999)']['movieId'].values[0]\n",
    "\n",
    "fight_club_ratings = df2[df2['movieId'] == fight_club_movie_id]['rating']\n",
    "\n",
    "# histogram\n",
    "plt.hist(fight_club_ratings, bins=10, edgecolor='black')\n",
    "plt.title('Distribution of User Ratings for Fight Club (1999)')\n",
    "plt.xlabel('Rating')\n",
    "plt.ylabel('Frequency')\n",
    "plt.grid(True)\n",
    "plt.show()"
   ]
  },
  {
   "cell_type": "markdown",
   "id": "43b4be78-cd11-45c1-8b02-da01ed0ed8c3",
   "metadata": {},
   "source": [
    "**👆🏻 Left Skewed Distribution**"
   ]
  },
  {
   "cell_type": "markdown",
   "id": "3b81db0b-56ba-481f-b2c4-9906df864ce5",
   "metadata": {},
   "source": [
    "### 8. Group the user ratings based on movieId and apply aggregation operations like count and mean on ratings."
   ]
  },
  {
   "cell_type": "code",
   "execution_count": 15,
   "id": "1bf01880-7c05-4ec1-b97c-58138bc3d0f1",
   "metadata": {},
   "outputs": [],
   "source": [
    "# Group by movieId and calculate count and mean of ratings\n",
    "grouped_ratings = df2.groupby('movieId').agg(rating_count=('rating', 'count'), rating_mean=('rating', 'mean')).reset_index()"
   ]
  },
  {
   "cell_type": "markdown",
   "id": "cf0a0dde-e246-4d0a-8402-5017277c27ba",
   "metadata": {},
   "source": [
    "### 9. Apply inner join on dataframe created from movies.csv and the grouped df from step 1"
   ]
  },
  {
   "cell_type": "code",
   "execution_count": 16,
   "id": "7d3391ae-3179-4bb0-b384-92ea97113b74",
   "metadata": {},
   "outputs": [],
   "source": [
    "# Perform an inner join with the movies dataframe\n",
    "merged_df = pd.merge(df, grouped_ratings, on='movieId', how='inner')"
   ]
  },
  {
   "cell_type": "markdown",
   "id": "cba01a62-ca0f-46d6-9ef3-37974d9ba29f",
   "metadata": {},
   "source": [
    "### 10. Filter only those movies which have more than 50 user ratings (i.e. > 50)."
   ]
  },
  {
   "cell_type": "code",
   "execution_count": 17,
   "id": "cc92a8d9-23ad-4c61-a076-d1b97d22d2a9",
   "metadata": {},
   "outputs": [],
   "source": [
    "# Filter movies with more than 50 user ratings\n",
    "filtered_df = merged_df[merged_df['rating_count'] > 50]"
   ]
  },
  {
   "cell_type": "code",
   "execution_count": 18,
   "id": "ba2a3118-104e-462e-ab2f-469cec4e7860",
   "metadata": {},
   "outputs": [
    {
     "data": {
      "text/html": [
       "<div>\n",
       "<style scoped>\n",
       "    .dataframe tbody tr th:only-of-type {\n",
       "        vertical-align: middle;\n",
       "    }\n",
       "\n",
       "    .dataframe tbody tr th {\n",
       "        vertical-align: top;\n",
       "    }\n",
       "\n",
       "    .dataframe thead th {\n",
       "        text-align: right;\n",
       "    }\n",
       "</style>\n",
       "<table border=\"1\" class=\"dataframe\">\n",
       "  <thead>\n",
       "    <tr style=\"text-align: right;\">\n",
       "      <th></th>\n",
       "      <th>movieId</th>\n",
       "      <th>rating_count</th>\n",
       "      <th>rating_mean</th>\n",
       "    </tr>\n",
       "  </thead>\n",
       "  <tbody>\n",
       "    <tr>\n",
       "      <th>0</th>\n",
       "      <td>1</td>\n",
       "      <td>215</td>\n",
       "      <td>3.920930</td>\n",
       "    </tr>\n",
       "    <tr>\n",
       "      <th>1</th>\n",
       "      <td>2</td>\n",
       "      <td>110</td>\n",
       "      <td>3.431818</td>\n",
       "    </tr>\n",
       "    <tr>\n",
       "      <th>2</th>\n",
       "      <td>3</td>\n",
       "      <td>52</td>\n",
       "      <td>3.259615</td>\n",
       "    </tr>\n",
       "    <tr>\n",
       "      <th>3</th>\n",
       "      <td>4</td>\n",
       "      <td>7</td>\n",
       "      <td>2.357143</td>\n",
       "    </tr>\n",
       "    <tr>\n",
       "      <th>4</th>\n",
       "      <td>5</td>\n",
       "      <td>49</td>\n",
       "      <td>3.071429</td>\n",
       "    </tr>\n",
       "  </tbody>\n",
       "</table>\n",
       "</div>"
      ],
      "text/plain": [
       "   movieId  rating_count  rating_mean\n",
       "0        1           215     3.920930\n",
       "1        2           110     3.431818\n",
       "2        3            52     3.259615\n",
       "3        4             7     2.357143\n",
       "4        5            49     3.071429"
      ]
     },
     "execution_count": 18,
     "metadata": {},
     "output_type": "execute_result"
    }
   ],
   "source": [
    "grouped_ratings.head()"
   ]
  },
  {
   "cell_type": "code",
   "execution_count": 25,
   "id": "b1ff7d8b-9402-4119-9286-71276ef9674c",
   "metadata": {},
   "outputs": [
    {
     "data": {
      "text/plain": [
       "(9724, 3)"
      ]
     },
     "execution_count": 25,
     "metadata": {},
     "output_type": "execute_result"
    }
   ],
   "source": [
    "grouped_ratings.shape"
   ]
  },
  {
   "cell_type": "code",
   "execution_count": 23,
   "id": "e164028a-6587-4b13-beae-ff43bfd55e09",
   "metadata": {},
   "outputs": [
    {
     "data": {
      "text/html": [
       "<div>\n",
       "<style scoped>\n",
       "    .dataframe tbody tr th:only-of-type {\n",
       "        vertical-align: middle;\n",
       "    }\n",
       "\n",
       "    .dataframe tbody tr th {\n",
       "        vertical-align: top;\n",
       "    }\n",
       "\n",
       "    .dataframe thead th {\n",
       "        text-align: right;\n",
       "    }\n",
       "</style>\n",
       "<table border=\"1\" class=\"dataframe\">\n",
       "  <thead>\n",
       "    <tr style=\"text-align: right;\">\n",
       "      <th></th>\n",
       "      <th>movieId</th>\n",
       "      <th>title</th>\n",
       "      <th>genres</th>\n",
       "      <th>rating_count</th>\n",
       "      <th>rating_mean</th>\n",
       "    </tr>\n",
       "  </thead>\n",
       "  <tbody>\n",
       "    <tr>\n",
       "      <th>0</th>\n",
       "      <td>1</td>\n",
       "      <td>Toy Story (1995)</td>\n",
       "      <td>Adventure|Animation|Children|Comedy|Fantasy</td>\n",
       "      <td>215</td>\n",
       "      <td>3.920930</td>\n",
       "    </tr>\n",
       "    <tr>\n",
       "      <th>1</th>\n",
       "      <td>2</td>\n",
       "      <td>Jumanji (1995)</td>\n",
       "      <td>Adventure|Children|Fantasy</td>\n",
       "      <td>110</td>\n",
       "      <td>3.431818</td>\n",
       "    </tr>\n",
       "    <tr>\n",
       "      <th>2</th>\n",
       "      <td>3</td>\n",
       "      <td>Grumpier Old Men (1995)</td>\n",
       "      <td>Comedy|Romance</td>\n",
       "      <td>52</td>\n",
       "      <td>3.259615</td>\n",
       "    </tr>\n",
       "    <tr>\n",
       "      <th>3</th>\n",
       "      <td>4</td>\n",
       "      <td>Waiting to Exhale (1995)</td>\n",
       "      <td>Comedy|Drama|Romance</td>\n",
       "      <td>7</td>\n",
       "      <td>2.357143</td>\n",
       "    </tr>\n",
       "    <tr>\n",
       "      <th>4</th>\n",
       "      <td>5</td>\n",
       "      <td>Father of the Bride Part II (1995)</td>\n",
       "      <td>Comedy</td>\n",
       "      <td>49</td>\n",
       "      <td>3.071429</td>\n",
       "    </tr>\n",
       "  </tbody>\n",
       "</table>\n",
       "</div>"
      ],
      "text/plain": [
       "   movieId                               title  \\\n",
       "0        1                    Toy Story (1995)   \n",
       "1        2                      Jumanji (1995)   \n",
       "2        3             Grumpier Old Men (1995)   \n",
       "3        4            Waiting to Exhale (1995)   \n",
       "4        5  Father of the Bride Part II (1995)   \n",
       "\n",
       "                                        genres  rating_count  rating_mean  \n",
       "0  Adventure|Animation|Children|Comedy|Fantasy           215     3.920930  \n",
       "1                   Adventure|Children|Fantasy           110     3.431818  \n",
       "2                               Comedy|Romance            52     3.259615  \n",
       "3                         Comedy|Drama|Romance             7     2.357143  \n",
       "4                                       Comedy            49     3.071429  "
      ]
     },
     "execution_count": 23,
     "metadata": {},
     "output_type": "execute_result"
    }
   ],
   "source": [
    "merged_df.head()"
   ]
  },
  {
   "cell_type": "code",
   "execution_count": 22,
   "id": "9a6bd75f-e879-496a-89ed-32a5059a853f",
   "metadata": {},
   "outputs": [
    {
     "data": {
      "text/plain": [
       "(9724, 5)"
      ]
     },
     "execution_count": 22,
     "metadata": {},
     "output_type": "execute_result"
    }
   ],
   "source": [
    "merged_df.shape"
   ]
  },
  {
   "cell_type": "code",
   "execution_count": 24,
   "id": "f4314268-5e65-4318-9fd8-fd991aa60bee",
   "metadata": {},
   "outputs": [
    {
     "data": {
      "text/html": [
       "<div>\n",
       "<style scoped>\n",
       "    .dataframe tbody tr th:only-of-type {\n",
       "        vertical-align: middle;\n",
       "    }\n",
       "\n",
       "    .dataframe tbody tr th {\n",
       "        vertical-align: top;\n",
       "    }\n",
       "\n",
       "    .dataframe thead th {\n",
       "        text-align: right;\n",
       "    }\n",
       "</style>\n",
       "<table border=\"1\" class=\"dataframe\">\n",
       "  <thead>\n",
       "    <tr style=\"text-align: right;\">\n",
       "      <th></th>\n",
       "      <th>movieId</th>\n",
       "      <th>title</th>\n",
       "      <th>genres</th>\n",
       "      <th>rating_count</th>\n",
       "      <th>rating_mean</th>\n",
       "    </tr>\n",
       "  </thead>\n",
       "  <tbody>\n",
       "    <tr>\n",
       "      <th>0</th>\n",
       "      <td>1</td>\n",
       "      <td>Toy Story (1995)</td>\n",
       "      <td>Adventure|Animation|Children|Comedy|Fantasy</td>\n",
       "      <td>215</td>\n",
       "      <td>3.920930</td>\n",
       "    </tr>\n",
       "    <tr>\n",
       "      <th>1</th>\n",
       "      <td>2</td>\n",
       "      <td>Jumanji (1995)</td>\n",
       "      <td>Adventure|Children|Fantasy</td>\n",
       "      <td>110</td>\n",
       "      <td>3.431818</td>\n",
       "    </tr>\n",
       "    <tr>\n",
       "      <th>2</th>\n",
       "      <td>3</td>\n",
       "      <td>Grumpier Old Men (1995)</td>\n",
       "      <td>Comedy|Romance</td>\n",
       "      <td>52</td>\n",
       "      <td>3.259615</td>\n",
       "    </tr>\n",
       "    <tr>\n",
       "      <th>5</th>\n",
       "      <td>6</td>\n",
       "      <td>Heat (1995)</td>\n",
       "      <td>Action|Crime|Thriller</td>\n",
       "      <td>102</td>\n",
       "      <td>3.946078</td>\n",
       "    </tr>\n",
       "    <tr>\n",
       "      <th>6</th>\n",
       "      <td>7</td>\n",
       "      <td>Sabrina (1995)</td>\n",
       "      <td>Comedy|Romance</td>\n",
       "      <td>54</td>\n",
       "      <td>3.185185</td>\n",
       "    </tr>\n",
       "  </tbody>\n",
       "</table>\n",
       "</div>"
      ],
      "text/plain": [
       "   movieId                    title  \\\n",
       "0        1         Toy Story (1995)   \n",
       "1        2           Jumanji (1995)   \n",
       "2        3  Grumpier Old Men (1995)   \n",
       "5        6              Heat (1995)   \n",
       "6        7           Sabrina (1995)   \n",
       "\n",
       "                                        genres  rating_count  rating_mean  \n",
       "0  Adventure|Animation|Children|Comedy|Fantasy           215     3.920930  \n",
       "1                   Adventure|Children|Fantasy           110     3.431818  \n",
       "2                               Comedy|Romance            52     3.259615  \n",
       "5                        Action|Crime|Thriller           102     3.946078  \n",
       "6                               Comedy|Romance            54     3.185185  "
      ]
     },
     "execution_count": 24,
     "metadata": {},
     "output_type": "execute_result"
    }
   ],
   "source": [
    "filtered_df.head()"
   ]
  },
  {
   "cell_type": "code",
   "execution_count": 21,
   "id": "5d222c08-aee0-4346-879e-d20a8e7e1eea",
   "metadata": {},
   "outputs": [
    {
     "data": {
      "text/plain": [
       "(436, 5)"
      ]
     },
     "execution_count": 21,
     "metadata": {},
     "output_type": "execute_result"
    }
   ],
   "source": [
    "filtered_df.shape"
   ]
  },
  {
   "cell_type": "markdown",
   "id": "700f4b17-9f8e-4e8e-bb27-28ac7efb6051",
   "metadata": {},
   "source": [
    "### 11. Which movie is the most popular based on  average user ratings?"
   ]
  },
  {
   "cell_type": "code",
   "execution_count": 27,
   "id": "0ac8a2ff-a087-4a29-9997-9a424abbbcae",
   "metadata": {},
   "outputs": [
    {
     "data": {
      "text/plain": [
       "'Shawshank Redemption, The (1994)'"
      ]
     },
     "execution_count": 27,
     "metadata": {},
     "output_type": "execute_result"
    }
   ],
   "source": [
    "most_popular_movie = filtered_df.loc[filtered_df['rating_mean'].idxmax(), 'title']\n",
    "\n",
    "most_popular_movie"
   ]
  },
  {
   "cell_type": "markdown",
   "id": "bddaf580-6d28-4ea1-aca0-40df2ca573a2",
   "metadata": {},
   "source": [
    "###  12. Top 5 popular movies based on number of user ratings."
   ]
  },
  {
   "cell_type": "code",
   "execution_count": 28,
   "id": "d971cc59-12da-4381-abb2-7e2df2b6b69c",
   "metadata": {},
   "outputs": [
    {
     "data": {
      "text/plain": [
       "314                  Forrest Gump (1994)\n",
       "277     Shawshank Redemption, The (1994)\n",
       "257                  Pulp Fiction (1994)\n",
       "510     Silence of the Lambs, The (1991)\n",
       "1938                  Matrix, The (1999)\n",
       "Name: title, dtype: object"
      ]
     },
     "execution_count": 28,
     "metadata": {},
     "output_type": "execute_result"
    }
   ],
   "source": [
    "top_5_popular_movies = filtered_df.nlargest(5, 'rating_count')['title']\n",
    "\n",
    "top_5_popular_movies"
   ]
  },
  {
   "cell_type": "markdown",
   "id": "7f2c375e-6056-45f1-a7e8-1d0fefefb0bc",
   "metadata": {},
   "source": [
    "### 13. Which Sci-Fi movie is \"third most popular\" based on the number of user ratings?"
   ]
  },
  {
   "cell_type": "code",
   "execution_count": 29,
   "id": "2bd58646-9085-434d-8804-44617ac10848",
   "metadata": {},
   "outputs": [
    {
     "data": {
      "text/plain": [
       "'Jurassic Park (1993)'"
      ]
     },
     "execution_count": 29,
     "metadata": {},
     "output_type": "execute_result"
    }
   ],
   "source": [
    "sci_fi_movies = filtered_df[filtered_df['genres'].str.contains('Sci-Fi')]\n",
    "\n",
    "third_most_popular_sci_fi_movie = sci_fi_movies.nlargest(3, 'rating_count').iloc[2]['title']\n",
    "\n",
    "third_most_popular_sci_fi_movie"
   ]
  },
  {
   "cell_type": "code",
   "execution_count": 30,
   "id": "1fc9c7a8-462d-446b-8c1e-d9755091f74a",
   "metadata": {},
   "outputs": [
    {
     "data": {
      "text/html": [
       "<div>\n",
       "<style scoped>\n",
       "    .dataframe tbody tr th:only-of-type {\n",
       "        vertical-align: middle;\n",
       "    }\n",
       "\n",
       "    .dataframe tbody tr th {\n",
       "        vertical-align: top;\n",
       "    }\n",
       "\n",
       "    .dataframe thead th {\n",
       "        text-align: right;\n",
       "    }\n",
       "</style>\n",
       "<table border=\"1\" class=\"dataframe\">\n",
       "  <thead>\n",
       "    <tr style=\"text-align: right;\">\n",
       "      <th></th>\n",
       "      <th>movieId</th>\n",
       "      <th>imdbId</th>\n",
       "      <th>tmdbId</th>\n",
       "    </tr>\n",
       "  </thead>\n",
       "  <tbody>\n",
       "    <tr>\n",
       "      <th>0</th>\n",
       "      <td>1</td>\n",
       "      <td>114709</td>\n",
       "      <td>862.0</td>\n",
       "    </tr>\n",
       "    <tr>\n",
       "      <th>1</th>\n",
       "      <td>2</td>\n",
       "      <td>113497</td>\n",
       "      <td>8844.0</td>\n",
       "    </tr>\n",
       "    <tr>\n",
       "      <th>2</th>\n",
       "      <td>3</td>\n",
       "      <td>113228</td>\n",
       "      <td>15602.0</td>\n",
       "    </tr>\n",
       "    <tr>\n",
       "      <th>3</th>\n",
       "      <td>4</td>\n",
       "      <td>114885</td>\n",
       "      <td>31357.0</td>\n",
       "    </tr>\n",
       "    <tr>\n",
       "      <th>4</th>\n",
       "      <td>5</td>\n",
       "      <td>113041</td>\n",
       "      <td>11862.0</td>\n",
       "    </tr>\n",
       "  </tbody>\n",
       "</table>\n",
       "</div>"
      ],
      "text/plain": [
       "   movieId  imdbId   tmdbId\n",
       "0        1  114709    862.0\n",
       "1        2  113497   8844.0\n",
       "2        3  113228  15602.0\n",
       "3        4  114885  31357.0\n",
       "4        5  113041  11862.0"
      ]
     },
     "execution_count": 30,
     "metadata": {},
     "output_type": "execute_result"
    }
   ],
   "source": [
    "df4 = pd.read_csv(\"links.csv\")\n",
    "\n",
    "df4.head()"
   ]
  },
  {
   "cell_type": "markdown",
   "id": "98b5770e-d14f-43bf-8684-450f4d0002a4",
   "metadata": {},
   "source": [
    "### 14. Web Scraping Script (Debug included)"
   ]
  },
  {
   "cell_type": "code",
   "execution_count": 40,
   "id": "876fac3e-3662-4dcb-bea1-88fefc653574",
   "metadata": {},
   "outputs": [],
   "source": [
    "import requests\n",
    "import numpy as np\n",
    "from bs4 import BeautifulSoup\n",
    "\n",
    "def scrapper(imdbId):\n",
    "    id = str(int(imdbId))\n",
    "    n_zeroes = 7 - len(id)\n",
    "    new_id = \"0\" * n_zeroes + id\n",
    "    URL = f\"https://www.imdb.com/title/tt{new_id}/\"\n",
    "    \n",
    "    print(f\"Scraping URL: {URL}\")  # Debugging output\n",
    "    \n",
    "    request_header = {\n",
    "        'Content-Type': 'text/html; charset=UTF-8',\n",
    "        'User-Agent': 'Mozilla/5.0 (Windows NT 10.0; Win64; x64; rv:109.0) Gecko/20100101 Firefox/119.0',\n",
    "        'Accept-Encoding': 'gzip, deflate, br'\n",
    "    }\n",
    "    \n",
    "    response = requests.get(URL, headers=request_header)\n",
    "    \n",
    "    if response.status_code != 200:\n",
    "        print(f\"Failed to retrieve {URL}, status code: {response.status_code}\")\n",
    "        return np.nan\n",
    "    \n",
    "    soup = BeautifulSoup(response.text, 'html.parser')\n",
    "    \n",
    "    imdb_rating = soup.find('span', attrs={'class': 'sc-eb51e184-1 ljxVSS'})\n",
    "    \n",
    "    if imdb_rating:\n",
    "        return imdb_rating.text\n",
    "    else:\n",
    "        print(f\"Could not find rating for {URL}\")\n",
    "        return np.nan"
   ]
  },
  {
   "cell_type": "code",
   "execution_count": 43,
   "id": "f2d00ea0-f87f-4ebb-8481-da78d9226d8f",
   "metadata": {},
   "outputs": [
    {
     "data": {
      "text/plain": [
       "(436, 7)"
      ]
     },
     "execution_count": 43,
     "metadata": {},
     "output_type": "execute_result"
    }
   ],
   "source": [
    "merged_df = pd.merge(filtered_df, df4, on='movieId', how='left')\n",
    "\n",
    "merged_df.shape"
   ]
  },
  {
   "cell_type": "code",
   "execution_count": 44,
   "id": "25c78c76-0ff3-4134-99a9-9807ebf2d53a",
   "metadata": {
    "collapsed": true,
    "jupyter": {
     "outputs_hidden": true
    },
    "scrolled": true
   },
   "outputs": [
    {
     "name": "stdout",
     "output_type": "stream",
     "text": [
      "Scraping URL: https://www.imdb.com/title/tt0114709/\n",
      "Scraping URL: https://www.imdb.com/title/tt0113497/\n",
      "Scraping URL: https://www.imdb.com/title/tt0113228/\n",
      "Scraping URL: https://www.imdb.com/title/tt0113277/\n",
      "Scraping URL: https://www.imdb.com/title/tt0114319/\n",
      "Scraping URL: https://www.imdb.com/title/tt0113189/\n",
      "Scraping URL: https://www.imdb.com/title/tt0112346/\n",
      "Scraping URL: https://www.imdb.com/title/tt0112641/\n",
      "Scraping URL: https://www.imdb.com/title/tt0114388/\n",
      "Scraping URL: https://www.imdb.com/title/tt0112281/\n",
      "Scraping URL: https://www.imdb.com/title/tt0113161/\n",
      "Scraping URL: https://www.imdb.com/title/tt0113627/\n",
      "Scraping URL: https://www.imdb.com/title/tt0114746/\n",
      "Scraping URL: https://www.imdb.com/title/tt0112431/\n",
      "Scraping URL: https://www.imdb.com/title/tt0112818/\n",
      "Scraping URL: https://www.imdb.com/title/tt0112697/\n",
      "Scraping URL: https://www.imdb.com/title/tt0114369/\n",
      "Scraping URL: https://www.imdb.com/title/tt0114148/\n",
      "Scraping URL: https://www.imdb.com/title/tt0114814/\n",
      "Scraping URL: https://www.imdb.com/title/tt0113862/\n",
      "Scraping URL: https://www.imdb.com/title/tt0116367/\n",
      "Scraping URL: https://www.imdb.com/title/tt0115759/\n",
      "Scraping URL: https://www.imdb.com/title/tt0116483/\n",
      "Scraping URL: https://www.imdb.com/title/tt0112573/\n",
      "Scraping URL: https://www.imdb.com/title/tt0075314/\n",
      "Scraping URL: https://www.imdb.com/title/tt0115685/\n",
      "Scraping URL: https://www.imdb.com/title/tt0112442/\n",
      "Scraping URL: https://www.imdb.com/title/tt0112384/\n",
      "Scraping URL: https://www.imdb.com/title/tt0112462/\n",
      "Scraping URL: https://www.imdb.com/title/tt0112642/\n",
      "Scraping URL: https://www.imdb.com/title/tt0112715/\n",
      "Scraping URL: https://www.imdb.com/title/tt0112740/\n",
      "Scraping URL: https://www.imdb.com/title/tt0112851/\n",
      "Scraping URL: https://www.imdb.com/title/tt0112864/\n",
      "Scraping URL: https://www.imdb.com/title/tt0113071/\n",
      "Scraping URL: https://www.imdb.com/title/tt0113481/\n",
      "Scraping URL: https://www.imdb.com/title/tt0113492/\n",
      "Scraping URL: https://www.imdb.com/title/tt0113957/\n",
      "Scraping URL: https://www.imdb.com/title/tt0114898/\n",
      "Scraping URL: https://www.imdb.com/title/tt0109445/\n",
      "Scraping URL: https://www.imdb.com/title/tt0109635/\n",
      "Scraping URL: https://www.imdb.com/title/tt0109686/\n",
      "Scraping URL: https://www.imdb.com/title/tt0109707/\n",
      "Scraping URL: https://www.imdb.com/title/tt0110148/\n",
      "Scraping URL: https://www.imdb.com/title/tt0076759/\n",
      "Scraping URL: https://www.imdb.com/title/tt0110322/\n",
      "Scraping URL: https://www.imdb.com/title/tt0110632/\n",
      "Scraping URL: https://www.imdb.com/title/tt0114069/\n",
      "Scraping URL: https://www.imdb.com/title/tt0110413/\n",
      "Scraping URL: https://www.imdb.com/title/tt0110912/\n",
      "Scraping URL: https://www.imdb.com/title/tt0110932/\n",
      "Scraping URL: https://www.imdb.com/title/tt0111282/\n",
      "Scraping URL: https://www.imdb.com/title/tt0111070/\n",
      "Scraping URL: https://www.imdb.com/title/tt0111161/\n",
      "Scraping URL: https://www.imdb.com/title/tt0111280/\n",
      "Scraping URL: https://www.imdb.com/title/tt0108550/\n",
      "Scraping URL: https://www.imdb.com/title/tt0114924/\n",
      "Scraping URL: https://www.imdb.com/title/tt0109040/\n",
      "Scraping URL: https://www.imdb.com/title/tt0109444/\n",
      "Scraping URL: https://www.imdb.com/title/tt0109446/\n",
      "Scraping URL: https://www.imdb.com/title/tt0109506/\n",
      "Scraping URL: https://www.imdb.com/title/tt0109830/\n",
      "Scraping URL: https://www.imdb.com/title/tt0109831/\n",
      "Scraping URL: https://www.imdb.com/title/tt0110357/\n",
      "Scraping URL: https://www.imdb.com/title/tt0110475/\n",
      "Scraping URL: https://www.imdb.com/title/tt0110478/\n",
      "Scraping URL: https://www.imdb.com/title/tt0110622/\n",
      "Scraping URL: https://www.imdb.com/title/tt0111257/\n",
      "Scraping URL: https://www.imdb.com/title/tt0111503/\n",
      "Scraping URL: https://www.imdb.com/title/tt0106220/\n",
      "Scraping URL: https://www.imdb.com/title/tt0109254/\n",
      "Scraping URL: https://www.imdb.com/title/tt0109439/\n",
      "Scraping URL: https://www.imdb.com/title/tt0106582/\n",
      "Scraping URL: https://www.imdb.com/title/tt0106598/\n",
      "Scraping URL: https://www.imdb.com/title/tt0106673/\n",
      "Scraping URL: https://www.imdb.com/title/tt0106697/\n",
      "Scraping URL: https://www.imdb.com/title/tt0106918/\n",
      "Scraping URL: https://www.imdb.com/title/tt0106977/\n",
      "Scraping URL: https://www.imdb.com/title/tt0107144/\n",
      "Scraping URL: https://www.imdb.com/title/tt0107206/\n",
      "Scraping URL: https://www.imdb.com/title/tt0107290/\n",
      "Scraping URL: https://www.imdb.com/title/tt0107362/\n",
      "Scraping URL: https://www.imdb.com/title/tt0107614/\n",
      "Scraping URL: https://www.imdb.com/title/tt0107818/\n",
      "Scraping URL: https://www.imdb.com/title/tt0107822/\n",
      "Scraping URL: https://www.imdb.com/title/tt0107977/\n",
      "Scraping URL: https://www.imdb.com/title/tt0108052/\n",
      "Scraping URL: https://www.imdb.com/title/tt0108160/\n",
      "Scraping URL: https://www.imdb.com/title/tt0083658/\n",
      "Scraping URL: https://www.imdb.com/title/tt0107688/\n",
      "Scraping URL: https://www.imdb.com/title/tt0108333/\n",
      "Scraping URL: https://www.imdb.com/title/tt0108358/\n",
      "Scraping URL: https://www.imdb.com/title/tt0108399/\n",
      "Scraping URL: https://www.imdb.com/title/tt0099785/\n",
      "Scraping URL: https://www.imdb.com/title/tt0099653/\n",
      "Scraping URL: https://www.imdb.com/title/tt0103639/\n",
      "Scraping URL: https://www.imdb.com/title/tt0103064/\n",
      "Scraping URL: https://www.imdb.com/title/tt0099348/\n",
      "Scraping URL: https://www.imdb.com/title/tt0096895/\n",
      "Scraping URL: https://www.imdb.com/title/tt0102926/\n",
      "Scraping URL: https://www.imdb.com/title/tt0029583/\n",
      "Scraping URL: https://www.imdb.com/title/tt0101414/\n",
      "Scraping URL: https://www.imdb.com/title/tt0032910/\n",
      "Scraping URL: https://www.imdb.com/title/tt0100405/\n",
      "Scraping URL: https://www.imdb.com/title/tt0116282/\n",
      "Scraping URL: https://www.imdb.com/title/tt0117060/\n",
      "Scraping URL: https://www.imdb.com/title/tt0116136/\n",
      "Scraping URL: https://www.imdb.com/title/tt0117705/\n",
      "Scraping URL: https://www.imdb.com/title/tt0117979/\n",
      "Scraping URL: https://www.imdb.com/title/tt0117500/\n",
      "Scraping URL: https://www.imdb.com/title/tt0117998/\n",
      "Scraping URL: https://www.imdb.com/title/tt0057012/\n",
      "Scraping URL: https://www.imdb.com/title/tt0117951/\n",
      "Scraping URL: https://www.imdb.com/title/tt0116629/\n",
      "Scraping URL: https://www.imdb.com/title/tt0115798/\n",
      "Scraping URL: https://www.imdb.com/title/tt0116213/\n",
      "Scraping URL: https://www.imdb.com/title/tt0117218/\n",
      "Scraping URL: https://www.imdb.com/title/tt0068646/\n",
      "Scraping URL: https://www.imdb.com/title/tt0052357/\n",
      "Scraping URL: https://www.imdb.com/title/tt0047396/\n",
      "Scraping URL: https://www.imdb.com/title/tt0053125/\n",
      "Scraping URL: https://www.imdb.com/title/tt0034583/\n",
      "Scraping URL: https://www.imdb.com/title/tt0032138/\n",
      "Scraping URL: https://www.imdb.com/title/tt0033467/\n",
      "Scraping URL: https://www.imdb.com/title/tt0062622/\n",
      "Scraping URL: https://www.imdb.com/title/tt0038650/\n",
      "Scraping URL: https://www.imdb.com/title/tt0058331/\n",
      "Scraping URL: https://www.imdb.com/title/tt0059742/\n",
      "Scraping URL: https://www.imdb.com/title/tt0095016/\n",
      "Scraping URL: https://www.imdb.com/title/tt0067992/\n",
      "Scraping URL: https://www.imdb.com/title/tt0095159/\n",
      "Scraping URL: https://www.imdb.com/title/tt0079470/\n",
      "Scraping URL: https://www.imdb.com/title/tt0105236/\n",
      "Scraping URL: https://www.imdb.com/title/tt0091763/\n",
      "Scraping URL: https://www.imdb.com/title/tt0083866/\n",
      "Scraping URL: https://www.imdb.com/title/tt0092099/\n",
      "Scraping URL: https://www.imdb.com/title/tt0096754/\n",
      "Scraping URL: https://www.imdb.com/title/tt0071853/\n",
      "Scraping URL: https://www.imdb.com/title/tt0108598/\n",
      "Scraping URL: https://www.imdb.com/title/tt0073486/\n",
      "Scraping URL: https://www.imdb.com/title/tt0080684/\n",
      "Scraping URL: https://www.imdb.com/title/tt0093779/\n",
      "Scraping URL: https://www.imdb.com/title/tt0082971/\n",
      "Scraping URL: https://www.imdb.com/title/tt0088846/\n",
      "Scraping URL: https://www.imdb.com/title/tt0090605/\n",
      "Scraping URL: https://www.imdb.com/title/tt0060196/\n",
      "Scraping URL: https://www.imdb.com/title/tt0050083/\n",
      "Scraping URL: https://www.imdb.com/title/tt0066921/\n",
      "Scraping URL: https://www.imdb.com/title/tt0056592/\n",
      "Scraping URL: https://www.imdb.com/title/tt0078788/\n",
      "Scraping URL: https://www.imdb.com/title/tt0086190/\n",
      "Scraping URL: https://www.imdb.com/title/tt0099685/\n",
      "Scraping URL: https://www.imdb.com/title/tt0078748/\n",
      "Scraping URL: https://www.imdb.com/title/tt0106308/\n",
      "Scraping URL: https://www.imdb.com/title/tt0054215/\n",
      "Scraping URL: https://www.imdb.com/title/tt0080455/\n",
      "Scraping URL: https://www.imdb.com/title/tt0071562/\n",
      "Scraping URL: https://www.imdb.com/title/tt0093058/\n",
      "Scraping URL: https://www.imdb.com/title/tt0086879/\n",
      "Scraping URL: https://www.imdb.com/title/tt0075686/\n",
      "Scraping URL: https://www.imdb.com/title/tt0070735/\n",
      "Scraping URL: https://www.imdb.com/title/tt0088247/\n",
      "Scraping URL: https://www.imdb.com/title/tt0097165/\n",
      "Scraping URL: https://www.imdb.com/title/tt0061722/\n",
      "Scraping URL: https://www.imdb.com/title/tt0071315/\n",
      "Scraping URL: https://www.imdb.com/title/tt0081505/\n",
      "Scraping URL: https://www.imdb.com/title/tt0092005/\n",
      "Scraping URL: https://www.imdb.com/title/tt0107048/\n",
      "Scraping URL: https://www.imdb.com/title/tt0088763/\n",
      "Scraping URL: https://www.imdb.com/title/tt0061512/\n",
      "Scraping URL: https://www.imdb.com/title/tt0072431/\n",
      "Scraping URL: https://www.imdb.com/title/tt0032455/\n",
      "Scraping URL: https://www.imdb.com/title/tt0088258/\n",
      "Scraping URL: https://www.imdb.com/title/tt0097576/\n",
      "Scraping URL: https://www.imdb.com/title/tt0097351/\n",
      "Scraping URL: https://www.imdb.com/title/tt0064115/\n",
      "Scraping URL: https://www.imdb.com/title/tt0098635/\n",
      "Scraping URL: https://www.imdb.com/title/tt0117731/\n",
      "Scraping URL: https://www.imdb.com/title/tt0099423/\n",
      "Scraping URL: https://www.imdb.com/title/tt0084726/\n",
      "Scraping URL: https://www.imdb.com/title/tt0103776/\n",
      "Scraping URL: https://www.imdb.com/title/tt0077631/\n",
      "Scraping URL: https://www.imdb.com/title/tt0073195/\n",
      "Scraping URL: https://www.imdb.com/title/tt0116996/\n",
      "Scraping URL: https://www.imdb.com/title/tt0116695/\n",
      "Scraping URL: https://www.imdb.com/title/tt0093822/\n",
      "Scraping URL: https://www.imdb.com/title/tt0117571/\n",
      "Scraping URL: https://www.imdb.com/title/tt0119008/\n",
      "Scraping URL: https://www.imdb.com/title/tt0119528/\n",
      "Scraping URL: https://www.imdb.com/title/tt0119229/\n",
      "Scraping URL: https://www.imdb.com/title/tt0118655/\n",
      "Scraping URL: https://www.imdb.com/title/tt0119116/\n",
      "Scraping URL: https://www.imdb.com/title/tt0119567/\n",
      "Scraping URL: https://www.imdb.com/title/tt0118880/\n",
      "Scraping URL: https://www.imdb.com/title/tt0119094/\n",
      "Scraping URL: https://www.imdb.com/title/tt0119654/\n",
      "Scraping URL: https://www.imdb.com/title/tt0118884/\n",
      "Scraping URL: https://www.imdb.com/title/tt0118571/\n",
      "Scraping URL: https://www.imdb.com/title/tt0099810/\n",
      "Scraping URL: https://www.imdb.com/title/tt0119488/\n",
      "Scraping URL: https://www.imdb.com/title/tt0119174/\n",
      "Scraping URL: https://www.imdb.com/title/tt0118842/\n",
      "Scraping URL: https://www.imdb.com/title/tt0119164/\n",
      "Scraping URL: https://www.imdb.com/title/tt0118971/\n",
      "Scraping URL: https://www.imdb.com/title/tt0119177/\n",
      "Scraping URL: https://www.imdb.com/title/tt0120201/\n",
      "Scraping URL: https://www.imdb.com/title/tt0120382/\n",
      "Scraping URL: https://www.imdb.com/title/tt0119217/\n",
      "Scraping URL: https://www.imdb.com/title/tt0120338/\n",
      "Scraping URL: https://www.imdb.com/title/tt0118715/\n",
      "Scraping URL: https://www.imdb.com/title/tt0120888/\n",
      "Scraping URL: https://www.imdb.com/title/tt0119822/\n",
      "Scraping URL: https://www.imdb.com/title/tt0120591/\n",
      "Scraping URL: https://www.imdb.com/title/tt0129387/\n",
      "Scraping URL: https://www.imdb.com/title/tt0075148/\n",
      "Scraping URL: https://www.imdb.com/title/tt0095953/\n",
      "Scraping URL: https://www.imdb.com/title/tt0088847/\n",
      "Scraping URL: https://www.imdb.com/title/tt0070047/\n",
      "Scraping URL: https://www.imdb.com/title/tt0093409/\n",
      "Scraping URL: https://www.imdb.com/title/tt0089218/\n",
      "Scraping URL: https://www.imdb.com/title/tt0120746/\n",
      "Scraping URL: https://www.imdb.com/title/tt0096874/\n",
      "Scraping URL: https://www.imdb.com/title/tt0099088/\n",
      "Scraping URL: https://www.imdb.com/title/tt0120815/\n",
      "Scraping URL: https://www.imdb.com/title/tt0097523/\n",
      "Scraping URL: https://www.imdb.com/title/tt0061852/\n",
      "Scraping URL: https://www.imdb.com/title/tt0048280/\n",
      "Scraping URL: https://www.imdb.com/title/tt0097757/\n",
      "Scraping URL: https://www.imdb.com/title/tt0088161/\n",
      "Scraping URL: https://www.imdb.com/title/tt0087469/\n",
      "Scraping URL: https://www.imdb.com/title/tt0120611/\n",
      "Scraping URL: https://www.imdb.com/title/tt0094721/\n",
      "Scraping URL: https://www.imdb.com/title/tt0094226/\n",
      "Scraping URL: https://www.imdb.com/title/tt0104257/\n",
      "Scraping URL: https://www.imdb.com/title/tt0099487/\n",
      "Scraping URL: https://www.imdb.com/title/tt0104952/\n",
      "Scraping URL: https://www.imdb.com/title/tt0120789/\n",
      "Scraping URL: https://www.imdb.com/title/tt0118799/\n",
      "Scraping URL: https://www.imdb.com/title/tt0120586/\n",
      "Scraping URL: https://www.imdb.com/title/tt0120660/\n",
      "Scraping URL: https://www.imdb.com/title/tt0120623/\n",
      "Scraping URL: https://www.imdb.com/title/tt0128445/\n",
      "Scraping URL: https://www.imdb.com/title/tt0138097/\n",
      "Scraping URL: https://www.imdb.com/title/tt0088011/\n",
      "Scraping URL: https://www.imdb.com/title/tt0090555/\n",
      "Scraping URL: https://www.imdb.com/title/tt0151804/\n",
      "Scraping URL: https://www.imdb.com/title/tt0063442/\n",
      "Scraping URL: https://www.imdb.com/title/tt0120735/\n",
      "Scraping URL: https://www.imdb.com/title/tt0133093/\n",
      "Scraping URL: https://www.imdb.com/title/tt0147800/\n",
      "Scraping URL: https://www.imdb.com/title/tt0126886/\n",
      "Scraping URL: https://www.imdb.com/title/tt0120616/\n",
      "Scraping URL: https://www.imdb.com/title/tt0120915/\n",
      "Scraping URL: https://www.imdb.com/title/tt0078346/\n",
      "Scraping URL: https://www.imdb.com/title/tt0073629/\n",
      "Scraping URL: https://www.imdb.com/title/tt0125439/\n",
      "Scraping URL: https://www.imdb.com/title/tt0145660/\n",
      "Scraping URL: https://www.imdb.com/title/tt0130827/\n",
      "Scraping URL: https://www.imdb.com/title/tt0099052/\n",
      "Scraping URL: https://www.imdb.com/title/tt0158983/\n",
      "Scraping URL: https://www.imdb.com/title/tt0120891/\n",
      "Scraping URL: https://www.imdb.com/title/tt0163651/\n",
      "Scraping URL: https://www.imdb.com/title/tt0185937/\n",
      "Scraping URL: https://www.imdb.com/title/tt0120663/\n",
      "Scraping URL: https://www.imdb.com/title/tt0087332/\n",
      "Scraping URL: https://www.imdb.com/title/tt0167404/\n",
      "Scraping URL: https://www.imdb.com/title/tt0080339/\n",
      "Scraping URL: https://www.imdb.com/title/tt0094737/\n",
      "Scraping URL: https://www.imdb.com/title/tt0085334/\n",
      "Scraping URL: https://www.imdb.com/title/tt0169547/\n",
      "Scraping URL: https://www.imdb.com/title/tt0100802/\n",
      "Scraping URL: https://www.imdb.com/title/tt0091042/\n",
      "Scraping URL: https://www.imdb.com/title/tt0058150/\n",
      "Scraping URL: https://www.imdb.com/title/tt0137523/\n",
      "Scraping URL: https://www.imdb.com/title/tt0093870/\n",
      "Scraping URL: https://www.imdb.com/title/tt0096438/\n",
      "Scraping URL: https://www.imdb.com/title/tt0120601/\n",
      "Scraping URL: https://www.imdb.com/title/tt0094012/\n",
      "Scraping URL: https://www.imdb.com/title/tt0120655/\n",
      "Scraping URL: https://www.imdb.com/title/tt0162661/\n",
      "Scraping URL: https://www.imdb.com/title/tt0120363/\n",
      "Scraping URL: https://www.imdb.com/title/tt0120689/\n",
      "Scraping URL: https://www.imdb.com/title/tt0175880/\n",
      "Scraping URL: https://www.imdb.com/title/tt0177789/\n",
      "Scraping URL: https://www.imdb.com/title/tt0105793/\n",
      "Scraping URL: https://www.imdb.com/title/tt0195685/\n",
      "Scraping URL: https://www.imdb.com/title/tt0077975/\n",
      "Scraping URL: https://www.imdb.com/title/tt0075860/\n",
      "Scraping URL: https://www.imdb.com/title/tt0146882/\n",
      "Scraping URL: https://www.imdb.com/title/tt0102057/\n",
      "Scraping URL: https://www.imdb.com/title/tt0093773/\n",
      "Scraping URL: https://www.imdb.com/title/tt0144084/\n",
      "Scraping URL: https://www.imdb.com/title/tt0080487/\n",
      "Scraping URL: https://www.imdb.com/title/tt0172495/\n",
      "Scraping URL: https://www.imdb.com/title/tt0120755/\n",
      "Scraping URL: https://www.imdb.com/title/tt0071230/\n",
      "Scraping URL: https://www.imdb.com/title/tt0187078/\n",
      "Scraping URL: https://www.imdb.com/title/tt0120630/\n",
      "Scraping URL: https://www.imdb.com/title/tt0187393/\n",
      "Scraping URL: https://www.imdb.com/title/tt0120903/\n",
      "Scraping URL: https://www.imdb.com/title/tt0181875/\n",
      "Scraping URL: https://www.imdb.com/title/tt0218839/\n",
      "Scraping URL: https://www.imdb.com/title/tt0212338/\n",
      "Scraping URL: https://www.imdb.com/title/tt0180093/\n",
      "Scraping URL: https://www.imdb.com/title/tt0160127/\n",
      "Scraping URL: https://www.imdb.com/title/tt0217869/\n",
      "Scraping URL: https://www.imdb.com/title/tt0190332/\n",
      "Scraping URL: https://www.imdb.com/title/tt0208092/\n",
      "Scraping URL: https://www.imdb.com/title/tt0207201/\n",
      "Scraping URL: https://www.imdb.com/title/tt0162222/\n",
      "Scraping URL: https://www.imdb.com/title/tt0212346/\n",
      "Scraping URL: https://www.imdb.com/title/tt0190590/\n",
      "Scraping URL: https://www.imdb.com/title/tt0181865/\n",
      "Scraping URL: https://www.imdb.com/title/tt0209144/\n",
      "Scraping URL: https://www.imdb.com/title/tt0221027/\n",
      "Scraping URL: https://www.imdb.com/title/tt0243155/\n",
      "Scraping URL: https://www.imdb.com/title/tt0086250/\n",
      "Scraping URL: https://www.imdb.com/title/tt0126029/\n",
      "Scraping URL: https://www.imdb.com/title/tt0203009/\n",
      "Scraping URL: https://www.imdb.com/title/tt0212720/\n",
      "Scraping URL: https://www.imdb.com/title/tt0250494/\n",
      "Scraping URL: https://www.imdb.com/title/tt0230600/\n",
      "Scraping URL: https://www.imdb.com/title/tt0139654/\n",
      "Scraping URL: https://www.imdb.com/title/tt0196229/\n",
      "Scraping URL: https://www.imdb.com/title/tt0166924/\n",
      "Scraping URL: https://www.imdb.com/title/tt0246578/\n",
      "Scraping URL: https://www.imdb.com/title/tt0198781/\n",
      "Scraping URL: https://www.imdb.com/title/tt0241527/\n",
      "Scraping URL: https://www.imdb.com/title/tt0240772/\n",
      "Scraping URL: https://www.imdb.com/title/tt0211915/\n",
      "Scraping URL: https://www.imdb.com/title/tt0265666/\n",
      "Scraping URL: https://www.imdb.com/title/tt0120737/\n",
      "Scraping URL: https://www.imdb.com/title/tt0268978/\n",
      "Scraping URL: https://www.imdb.com/title/tt0268380/\n",
      "Scraping URL: https://www.imdb.com/title/tt0259446/\n",
      "Scraping URL: https://www.imdb.com/title/tt0145487/\n",
      "Scraping URL: https://www.imdb.com/title/tt0121765/\n",
      "Scraping URL: https://www.imdb.com/title/tt0258463/\n",
      "Scraping URL: https://www.imdb.com/title/tt0181689/\n",
      "Scraping URL: https://www.imdb.com/title/tt0120912/\n",
      "Scraping URL: https://www.imdb.com/title/tt0295178/\n",
      "Scraping URL: https://www.imdb.com/title/tt0286106/\n",
      "Scraping URL: https://www.imdb.com/title/tt0245429/\n",
      "Scraping URL: https://www.imdb.com/title/tt0310793/\n",
      "Scraping URL: https://www.imdb.com/title/tt0295297/\n",
      "Scraping URL: https://www.imdb.com/title/tt0167261/\n",
      "Scraping URL: https://www.imdb.com/title/tt0217505/\n",
      "Scraping URL: https://www.imdb.com/title/tt0264464/\n",
      "Scraping URL: https://www.imdb.com/title/tt0317248/\n",
      "Scraping URL: https://www.imdb.com/title/tt0290334/\n",
      "Scraping URL: https://www.imdb.com/title/tt0234215/\n",
      "Scraping URL: https://www.imdb.com/title/tt0315327/\n",
      "Scraping URL: https://www.imdb.com/title/tt0266543/\n",
      "Scraping URL: https://www.imdb.com/title/tt0317740/\n",
      "Scraping URL: https://www.imdb.com/title/tt0289043/\n",
      "Scraping URL: https://www.imdb.com/title/tt0325980/\n",
      "Scraping URL: https://www.imdb.com/title/tt0335266/\n",
      "Scraping URL: https://www.imdb.com/title/tt0332379/\n",
      "Scraping URL: https://www.imdb.com/title/tt0327056/\n",
      "Scraping URL: https://www.imdb.com/title/tt0266697/\n",
      "Scraping URL: https://www.imdb.com/title/tt0242653/\n",
      "Scraping URL: https://www.imdb.com/title/tt0314331/\n",
      "Scraping URL: https://www.imdb.com/title/tt0325710/\n",
      "Scraping URL: https://www.imdb.com/title/tt0319061/\n",
      "Scraping URL: https://www.imdb.com/title/tt0167260/\n",
      "Scraping URL: https://www.imdb.com/title/tt0338013/\n",
      "Scraping URL: https://www.imdb.com/title/tt0378194/\n",
      "Scraping URL: https://www.imdb.com/title/tt0298148/\n",
      "Scraping URL: https://www.imdb.com/title/tt0304141/\n",
      "Scraping URL: https://www.imdb.com/title/tt0316654/\n",
      "Scraping URL: https://www.imdb.com/title/tt0357413/\n",
      "Scraping URL: https://www.imdb.com/title/tt0343818/\n",
      "Scraping URL: https://www.imdb.com/title/tt0372183/\n",
      "Scraping URL: https://www.imdb.com/title/tt0365748/\n",
      "Scraping URL: https://www.imdb.com/title/tt0317705/\n",
      "Scraping URL: https://www.imdb.com/title/tt0405159/\n",
      "Scraping URL: https://www.imdb.com/title/tt0367594/\n",
      "Scraping URL: https://www.imdb.com/title/tt0401792/\n",
      "Scraping URL: https://www.imdb.com/title/tt0121766/\n",
      "Scraping URL: https://www.imdb.com/title/tt0356910/\n",
      "Scraping URL: https://www.imdb.com/title/tt0372784/\n",
      "Scraping URL: https://www.imdb.com/title/tt0396269/\n",
      "Scraping URL: https://www.imdb.com/title/tt0405422/\n",
      "Scraping URL: https://www.imdb.com/title/tt0330373/\n",
      "Scraping URL: https://www.imdb.com/title/tt0363771/\n",
      "Scraping URL: https://www.imdb.com/title/tt0434409/\n",
      "Scraping URL: https://www.imdb.com/title/tt0376994/\n",
      "Scraping URL: https://www.imdb.com/title/tt0383574/\n",
      "Scraping URL: https://www.imdb.com/title/tt0449059/\n",
      "Scraping URL: https://www.imdb.com/title/tt0443453/\n",
      "Scraping URL: https://www.imdb.com/title/tt0457430/\n",
      "Scraping URL: https://www.imdb.com/title/tt0407887/\n",
      "Scraping URL: https://www.imdb.com/title/tt0206634/\n",
      "Scraping URL: https://www.imdb.com/title/tt0482571/\n",
      "Scraping URL: https://www.imdb.com/title/tt0381061/\n",
      "Scraping URL: https://www.imdb.com/title/tt0450259/\n",
      "Scraping URL: https://www.imdb.com/title/tt0382932/\n",
      "Scraping URL: https://www.imdb.com/title/tt0425112/\n",
      "Scraping URL: https://www.imdb.com/title/tt0416449/\n",
      "Scraping URL: https://www.imdb.com/title/tt0478311/\n",
      "Scraping URL: https://www.imdb.com/title/tt0449088/\n",
      "Scraping URL: https://www.imdb.com/title/tt0373889/\n",
      "Scraping URL: https://www.imdb.com/title/tt0440963/\n",
      "Scraping URL: https://www.imdb.com/title/tt0829482/\n",
      "Scraping URL: https://www.imdb.com/title/tt0477348/\n",
      "Scraping URL: https://www.imdb.com/title/tt0480249/\n",
      "Scraping URL: https://www.imdb.com/title/tt0467406/\n",
      "Scraping URL: https://www.imdb.com/title/tt0468569/\n",
      "Scraping URL: https://www.imdb.com/title/tt0371746/\n",
      "Scraping URL: https://www.imdb.com/title/tt0441773/\n",
      "Scraping URL: https://www.imdb.com/title/tt0910970/\n",
      "Scraping URL: https://www.imdb.com/title/tt1010048/\n",
      "Scraping URL: https://www.imdb.com/title/tt0361748/\n",
      "Scraping URL: https://www.imdb.com/title/tt0796366/\n",
      "Scraping URL: https://www.imdb.com/title/tt1049413/\n",
      "Scraping URL: https://www.imdb.com/title/tt1119646/\n",
      "Scraping URL: https://www.imdb.com/title/tt0417741/\n",
      "Scraping URL: https://www.imdb.com/title/tt1136608/\n",
      "Scraping URL: https://www.imdb.com/title/tt1156398/\n",
      "Scraping URL: https://www.imdb.com/title/tt0499549/\n",
      "Scraping URL: https://www.imdb.com/title/tt0988045/\n",
      "Scraping URL: https://www.imdb.com/title/tt1130884/\n",
      "Scraping URL: https://www.imdb.com/title/tt0892769/\n",
      "Scraping URL: https://www.imdb.com/title/tt0435761/\n",
      "Scraping URL: https://www.imdb.com/title/tt1375666/\n",
      "Scraping URL: https://www.imdb.com/title/tt1285016/\n",
      "Scraping URL: https://www.imdb.com/title/tt1504320/\n",
      "Scraping URL: https://www.imdb.com/title/tt0848228/\n",
      "Scraping URL: https://www.imdb.com/title/tt1392170/\n",
      "Scraping URL: https://www.imdb.com/title/tt1345836/\n",
      "Scraping URL: https://www.imdb.com/title/tt1853728/\n",
      "Scraping URL: https://www.imdb.com/title/tt0993846/\n",
      "Scraping URL: https://www.imdb.com/title/tt2278388/\n",
      "Scraping URL: https://www.imdb.com/title/tt0816692/\n",
      "Scraping URL: https://www.imdb.com/title/tt2015381/\n",
      "Scraping URL: https://www.imdb.com/title/tt1431045/\n"
     ]
    }
   ],
   "source": [
    "merged_df['imdb_rating'] = merged_df['imdbId'].apply(scrapper)"
   ]
  },
  {
   "cell_type": "code",
   "execution_count": 47,
   "id": "afbb1466-78cc-42c2-9da9-b73c2aeff2cc",
   "metadata": {},
   "outputs": [
    {
     "data": {
      "text/html": [
       "<div>\n",
       "<style scoped>\n",
       "    .dataframe tbody tr th:only-of-type {\n",
       "        vertical-align: middle;\n",
       "    }\n",
       "\n",
       "    .dataframe tbody tr th {\n",
       "        vertical-align: top;\n",
       "    }\n",
       "\n",
       "    .dataframe thead th {\n",
       "        text-align: right;\n",
       "    }\n",
       "</style>\n",
       "<table border=\"1\" class=\"dataframe\">\n",
       "  <thead>\n",
       "    <tr style=\"text-align: right;\">\n",
       "      <th></th>\n",
       "      <th>title</th>\n",
       "      <th>imdb_rating</th>\n",
       "    </tr>\n",
       "  </thead>\n",
       "  <tbody>\n",
       "    <tr>\n",
       "      <th>0</th>\n",
       "      <td>Toy Story (1995)</td>\n",
       "      <td>8.3</td>\n",
       "    </tr>\n",
       "    <tr>\n",
       "      <th>1</th>\n",
       "      <td>Jumanji (1995)</td>\n",
       "      <td>7.1</td>\n",
       "    </tr>\n",
       "    <tr>\n",
       "      <th>2</th>\n",
       "      <td>Grumpier Old Men (1995)</td>\n",
       "      <td>6.7</td>\n",
       "    </tr>\n",
       "    <tr>\n",
       "      <th>3</th>\n",
       "      <td>Heat (1995)</td>\n",
       "      <td>8.3</td>\n",
       "    </tr>\n",
       "    <tr>\n",
       "      <th>4</th>\n",
       "      <td>Sabrina (1995)</td>\n",
       "      <td>6.3</td>\n",
       "    </tr>\n",
       "    <tr>\n",
       "      <th>...</th>\n",
       "      <td>...</td>\n",
       "      <td>...</td>\n",
       "    </tr>\n",
       "    <tr>\n",
       "      <th>431</th>\n",
       "      <td>Wolf of Wall Street, The (2013)</td>\n",
       "      <td>8.2</td>\n",
       "    </tr>\n",
       "    <tr>\n",
       "      <th>432</th>\n",
       "      <td>Grand Budapest Hotel, The (2014)</td>\n",
       "      <td>8.1</td>\n",
       "    </tr>\n",
       "    <tr>\n",
       "      <th>433</th>\n",
       "      <td>Interstellar (2014)</td>\n",
       "      <td>8.7</td>\n",
       "    </tr>\n",
       "    <tr>\n",
       "      <th>434</th>\n",
       "      <td>Guardians of the Galaxy (2014)</td>\n",
       "      <td>8.0</td>\n",
       "    </tr>\n",
       "    <tr>\n",
       "      <th>435</th>\n",
       "      <td>Deadpool (2016)</td>\n",
       "      <td>8.0</td>\n",
       "    </tr>\n",
       "  </tbody>\n",
       "</table>\n",
       "<p>436 rows × 2 columns</p>\n",
       "</div>"
      ],
      "text/plain": [
       "                                title imdb_rating\n",
       "0                    Toy Story (1995)         8.3\n",
       "1                      Jumanji (1995)         7.1\n",
       "2             Grumpier Old Men (1995)         6.7\n",
       "3                         Heat (1995)         8.3\n",
       "4                      Sabrina (1995)         6.3\n",
       "..                                ...         ...\n",
       "431   Wolf of Wall Street, The (2013)         8.2\n",
       "432  Grand Budapest Hotel, The (2014)         8.1\n",
       "433               Interstellar (2014)         8.7\n",
       "434    Guardians of the Galaxy (2014)         8.0\n",
       "435                   Deadpool (2016)         8.0\n",
       "\n",
       "[436 rows x 2 columns]"
      ]
     },
     "execution_count": 47,
     "metadata": {},
     "output_type": "execute_result"
    }
   ],
   "source": [
    "merged_df[['title', 'imdb_rating']]"
   ]
  },
  {
   "cell_type": "markdown",
   "id": "12e02b8f-0ede-4024-bc13-4235586f8c35",
   "metadata": {},
   "source": [
    "### 15. `movieId` of the movie which has the highest IMDB rating.\n"
   ]
  },
  {
   "cell_type": "code",
   "execution_count": 48,
   "id": "de33209b-621f-4b0f-a057-6e70d45cde4a",
   "metadata": {},
   "outputs": [],
   "source": [
    "highest_rated_movie = merged_df.loc[merged_df['imdb_rating'].idxmax()]\n",
    "\n",
    "highest_rated_movieId = highest_rated_movie['movieId']"
   ]
  },
  {
   "cell_type": "code",
   "execution_count": 49,
   "id": "5a5f08f2-8756-4bdf-986a-c49c020a5020",
   "metadata": {},
   "outputs": [
    {
     "name": "stdout",
     "output_type": "stream",
     "text": [
      "MovieId with the highest IMDb rating: 318\n"
     ]
    }
   ],
   "source": [
    "print(\"MovieId with the highest IMDb rating:\", highest_rated_movieId)"
   ]
  },
  {
   "cell_type": "markdown",
   "id": "925e5606-3c4c-4339-91f1-b7032f547536",
   "metadata": {},
   "source": [
    "### 16. `movieId` of the \"Sci-Fi\" movie which has the highest IMDB rating."
   ]
  },
  {
   "cell_type": "code",
   "execution_count": 50,
   "id": "09b4456d-17c2-451f-bd10-4653da93ce59",
   "metadata": {},
   "outputs": [],
   "source": [
    "sci_fi_movies = merged_df[merged_df['genres'].str.contains('Sci-Fi')]\n",
    "\n",
    "highest_rated_sci_fi_movie = sci_fi_movies.loc[sci_fi_movies['imdb_rating'].idxmax()]\n",
    "\n",
    "highest_rated_sci_fi_movieId = highest_rated_sci_fi_movie['movieId']"
   ]
  },
  {
   "cell_type": "code",
   "execution_count": 51,
   "id": "3e7fea2e-f98b-4359-aae0-73b772d6b71e",
   "metadata": {},
   "outputs": [
    {
     "name": "stdout",
     "output_type": "stream",
     "text": [
      "MovieId of the Sci-Fi movie with the highest IMDb rating: 79132\n"
     ]
    }
   ],
   "source": [
    "print(\"MovieId of the Sci-Fi movie with the highest IMDb rating:\", highest_rated_sci_fi_movieId)"
   ]
  },
  {
   "cell_type": "markdown",
   "id": "3fffae65-9af4-4b0a-829a-ec9c1a1a6d67",
   "metadata": {},
   "source": [
    "# THANK YOU\n",
    "For a comprehensive understanding of my background, I've provided some resources below:\n",
    "- `LinkedIn Profile`: https://www.linkedin.com/in/codewithcharan/\n",
    "- `Portfolio Website`: https://codewithcharan.github.io/My-Portfolio/\n",
    "- `GitHub Profile`: https://github.com/CodeWithCharan?tab=repositoriesHub"
   ]
  },
  {
   "cell_type": "code",
   "execution_count": null,
   "id": "a7c302c1-439b-4194-94eb-3eaa6b03b3c8",
   "metadata": {},
   "outputs": [],
   "source": []
  }
 ],
 "metadata": {
  "kernelspec": {
   "display_name": "Python 3 (ipykernel)",
   "language": "python",
   "name": "python3"
  },
  "language_info": {
   "codemirror_mode": {
    "name": "ipython",
    "version": 3
   },
   "file_extension": ".py",
   "mimetype": "text/x-python",
   "name": "python",
   "nbconvert_exporter": "python",
   "pygments_lexer": "ipython3",
   "version": "3.12.4"
  }
 },
 "nbformat": 4,
 "nbformat_minor": 5
}
